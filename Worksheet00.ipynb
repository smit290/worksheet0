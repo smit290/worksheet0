{
 "cells": [
  {
   "cell_type": "code",
   "execution_count": 1,
   "id": "c334fdf9-3c80-44eb-b5ae-ba9e8d35d240",
   "metadata": {},
   "outputs": [
    {
     "name": "stdout",
     "output_type": "stream",
     "text": [
      "Cold temperatures:  [8.2, 7.9, 9.0, 8.5, 7.7, 8.4, 9.5, 8.1, 7.6, 8.0, 7.8, 8.7, 9.2, 8.3, 8.9, 7.8]\n",
      "Mild temperatures:  [14.1, 13.5, 13.0, 12.9, 13.3, 14.0, 13.4, 14.2, 12.8, 13.7, 13.6, 13.8, 13.9, 12.7, 13.1, 12.5]\n",
      "Comfortable temperatures:  [17.4, 18.0, 17.8, 16.5, 17.2, 16.7, 18.3, 17.9, 17.0, 16.8, 17.5, 17.1, 18.1, 16.4, 18.2, 16.6]\n"
     ]
    }
   ],
   "source": [
    "temperature_readings = [8.2, 17.4, 14.1, 7.9, 18.0, 13.5, 9.0, 17.8, 13.0, 8.5,\n",
    "                        16.5, 12.9, 7.7, 17.2, 13.3, 8.4, 16.7, 14.0, 9.5, 18.3, 13.4, 8.1,\n",
    "                        17.9, 14.2, 7.6, 17.0, 12.8, 8.0, 16.8, 13.7, 7.8, 17.5, 13.6, 8.7,\n",
    "                        17.1, 13.8, 9.2, 18.1, 13.9, 8.3, 16.4, 12.7, 8.9, 18.2, 13.1, 7.8,\n",
    "                        16.6, 12.5]\n",
    "\n",
    "cold_temps = []\n",
    "mild_temps = []\n",
    "comfortable_temps = []\n",
    "\n",
    "for temp in temperature_readings:\n",
    "    if temp < 10:\n",
    "        cold_temps.append(temp)\n",
    "    elif 10 <= temp < 15:\n",
    "        mild_temps.append(temp)\n",
    "    elif 15 <= temp < 20:\n",
    "        comfortable_temps.append(temp)\n",
    "\n",
    "print(\"Cold temperatures: \", cold_temps)\n",
    "print(\"Mild temperatures: \", mild_temps)\n",
    "print(\"Comfortable temperatures: \", comfortable_temps)\n"
   ]
  },
  {
   "cell_type": "code",
   "execution_count": 3,
   "id": "08d16450-0094-4584-a504-758a9f7e70eb",
   "metadata": {},
   "outputs": [
    {
     "name": "stdout",
     "output_type": "stream",
     "text": [
      "Number of Mild days:  16\n"
     ]
    }
   ],
   "source": [
    "#Task 2\n",
    "mild_days = [14.1, 13.5, 13.0, 12.9, 13.3, 14.0, 13.4, 14.2, 12.8, 13.7, 13.6, 13.8, 13.9, 12.7, 13.1, 12.5]\n",
    "\n",
    "num_mild_days = len(mild_days)\n",
    "print(\"Number of Mild days: \", num_mild_days)\n"
   ]
  },
  {
   "cell_type": "code",
   "execution_count": 4,
   "id": "5ee0102b-3638-4d70-b3d0-13c3288fcb7d",
   "metadata": {},
   "outputs": [
    {
     "name": "stdout",
     "output_type": "stream",
     "text": [
      "Number of Comfortable days:  16\n"
     ]
    }
   ],
   "source": [
    "comfortable_days = [17.4, 18.0, 17.8, 16.5, 17.2, 16.7, 18.3, 17.9, 17.0, 16.8, 17.5, 17.1, 18.1, 16.4, 18.2, 16.6]\n",
    "\n",
    "num_comfortable_days = len(comfortable_days)\n",
    "print(\"Number of Comfortable days: \", num_comfortable_days)\n"
   ]
  },
  {
   "cell_type": "code",
   "execution_count": 5,
   "id": "2bef1f27-2d96-4dd1-83c5-97b00fe3c8fe",
   "metadata": {},
   "outputs": [
    {
     "name": "stdout",
     "output_type": "stream",
     "text": [
      "Number of Cold days:  16\n"
     ]
    }
   ],
   "source": [
    "cold_days = [8.2, 7.9, 9.0, 8.5, 7.7, 8.4, 9.5, 8.1, 7.6, 8.0, 7.8, 8.7, 9.2, 8.3, 8.9, 7.8]\n",
    "\n",
    "num_cold_days = len(cold_days)\n",
    "print(\"Number of Cold days: \", num_cold_days)\n"
   ]
  },
  {
   "cell_type": "code",
   "execution_count": 6,
   "id": "ff827be8-3f54-496c-a687-cde84e97c856",
   "metadata": {},
   "outputs": [
    {
     "name": "stdout",
     "output_type": "stream",
     "text": [
      "Temperatures in Fahrenheit:  [46.76, 63.32, 57.379999999999995, 46.22, 64.4, 56.3, 48.2, 64.04, 55.4, 47.3, 61.7, 55.22, 45.86, 62.959999999999994, 55.94, 47.120000000000005, 62.059999999999995, 57.2, 49.1, 64.94, 56.120000000000005, 46.58, 64.22, 57.56, 45.68, 62.6, 55.04, 46.4, 62.24, 56.66, 46.04, 63.5, 56.48, 47.66, 62.78, 56.84, 48.56, 64.58, 57.02, 46.94, 61.519999999999996, 54.86, 48.02, 64.75999999999999, 55.58, 46.04, 61.88, 54.5]\n"
     ]
    }
   ],
   "source": [
    "temperature_readings = [\n",
    "    8.2, 17.4, 14.1, 7.9, 18.0, 13.5, 9.0, 17.8, 13.0, 8.5,\n",
    "    16.5, 12.9, 7.7, 17.2, 13.3, 8.4, 16.7, 14.0, 9.5, 18.3, 13.4, 8.1,\n",
    "    17.9, 14.2, 7.6, 17.0, 12.8, 8.0, 16.8, 13.7, 7.8, 17.5, 13.6, 8.7,\n",
    "    17.1, 13.8, 9.2, 18.1, 13.9, 8.3, 16.4, 12.7, 8.9, 18.2, 13.1, 7.8,\n",
    "    16.6, 12.5\n",
    "]\n",
    "\n",
    "fahrenheit_temperatures = []\n",
    "\n",
    "for temp in temperature_readings:\n",
    "    fahrenheit = (temp * 9/5) + 32\n",
    "    fahrenheit_temperatures.append(fahrenheit)\n",
    "\n",
    "print(\"Temperatures in Fahrenheit: \", fahrenheit_temperatures)\n"
   ]
  },
  {
   "cell_type": "code",
   "execution_count": 32,
   "id": "f63a5c80-6ecc-42ac-92d2-6a4f5be3e23e",
   "metadata": {},
   "outputs": [
    {
     "name": "stdout",
     "output_type": "stream",
     "text": [
      "Night temperature:  [8.2, 7.9, 9.0, 8.5, 7.7, 8.4, 9.5, 8.1, 7.6, 8.0, 7.8, 8.7, 9.2, 8.3, 8.9, 7.8]\n",
      "Evening temperature:  [17.4, 18.0, 17.8, 16.5, 17.2, 16.7, 18.3, 17.9, 17.0, 16.8, 17.5, 17.1, 18.1, 16.4, 18.2, 16.6]\n",
      "day temperature:  [14.1, 13.5, 13.0, 12.9, 13.3, 14.0, 13.4, 14.2, 12.8, 13.7, 13.6, 13.8, 13.9, 12.7, 13.1, 12.5]\n",
      "Average temperature of the day is  13.40625\n"
     ]
    }
   ],
   "source": [
    "temperature = [\n",
    "    8.2, 17.4, 14.1, 7.9, 18.0, 13.5, 9.0, 17.8, 13.0, 8.5,\n",
    "16.5, 12.9, 7.7, 17.2, 13.3, 8.4, 16.7, 14.0, 9.5, 18.3, 13.4, 8.1,\n",
    "17.9, 14.2, 7.6, 17.0, 12.8, 8.0, 16.8, 13.7, 7.8, 17.5, 13.6, 8.7,\n",
    "17.1, 13.8, 9.2, 18.1, 13.9, 8.3, 16.4, 12.7, 8.9, 18.2, 13.1, 7.8,\n",
    "16.6, 12.5\n",
    "]\n",
    "\n",
    "night = []\n",
    "evening = []\n",
    "day = []\n",
    "\n",
    "for i in range(0, len(temperature),3):\n",
    "    night.append(temperature[i])\n",
    "    evening.append(temperature[i+1])\n",
    "    day.append(temperature[i+2])\n",
    "\n",
    "print(\"Night temperature: \", night)\n",
    "print(\"Evening temperature: \", evening)\n",
    "print(\"day temperature: \", day)\n",
    "\n",
    "total_temp = 0\n",
    "for temp in day:\n",
    "    total_temp += temp\n",
    "\n",
    "average_temp = total_temp / len(day)\n",
    "\n",
    "print(\"Average temperature of the day is \", average_temp)\n",
    "\n",
    "\n",
    "\n"
   ]
  },
  {
   "cell_type": "code",
   "execution_count": 1,
   "id": "44143357-81dc-4ce9-a3c5-f99820f27217",
   "metadata": {},
   "outputs": [
    {
     "name": "stdout",
     "output_type": "stream",
     "text": [
      "The total sum:  36\n"
     ]
    }
   ],
   "source": [
    "def sum_nest_list(nested_list):\n",
    "    total = 0\n",
    "\n",
    "    for i in nested_list:\n",
    "        if isinstance(i, list):\n",
    "            total += sum_nest_list(i)\n",
    "        else:\n",
    "            total += i\n",
    "\n",
    "    return total\n",
    "\n",
    "nested_list = [1, [2, [3, 4], 5], 6, [7, 8]]\n",
    "result = sum_nest_list(nested_list)\n",
    "print(\"The total sum: \", result)\n"
   ]
  },
  {
   "cell_type": "code",
   "execution_count": 2,
   "id": "fc3064de-cfe1-4485-9fe6-698789fb0e5d",
   "metadata": {},
   "outputs": [
    {
     "name": "stdout",
     "output_type": "stream",
     "text": [
      "['abc', 'acb', 'bac', 'bca', 'cba', 'cab']\n",
      "['aab', 'aba', 'baa']\n"
     ]
    }
   ],
   "source": [
    "#task2 \n",
    "def generate_permutations(s):\n",
    "    \n",
    "    def backtrack(s, start, result):\n",
    "        if start == len(s):\n",
    "            result.append(''.join(s))\n",
    "            return\n",
    "\n",
    "        seen = set()\n",
    "\n",
    "        for i in range(start, len(s)):\n",
    "            if s[i] in seen:\n",
    "                continue\n",
    "            seen.add(s[i])\n",
    "\n",
    "            s[start], s[i] = s[i], s[start]\n",
    "            backtrack(s, start + 1, result)\n",
    "            s[start], s[i] = s[i], s[start]  \n",
    "    result = []\n",
    "    backtrack(list(s), 0, result)\n",
    "    return result\n",
    "\n",
    "print(generate_permutations(\"abc\"))\n",
    "\n",
    "print(generate_permutations(\"aab\"))\n"
   ]
  },
  {
   "cell_type": "code",
   "execution_count": 3,
   "id": "beaa8827-7fe9-4368-bb2f-18faaaadda64",
   "metadata": {},
   "outputs": [
    {
     "name": "stdout",
     "output_type": "stream",
     "text": [
      "Total size of the directory: 1400 KB\n"
     ]
    }
   ],
   "source": [
    "#Task3\n",
    "def calculate_directory_size(directory):\n",
    "    total_size = 0  \n",
    "\n",
    "    for item, size in directory.items():\n",
    "        if isinstance(size, int):\n",
    "            total_size += size\n",
    "        elif isinstance(size, dict):\n",
    "            total_size += calculate_directory_size(size)\n",
    "    \n",
    "    return total_size\n",
    "\n",
    "directory_structure = {\n",
    "    \"file1.txt\": 200,\n",
    "    \"file2.txt\": 300,\n",
    "    \"subdir1\": {\n",
    "        \"file3.txt\": 400,\n",
    "        \"file4.txt\": 100\n",
    "    },\n",
    "    \"subdir2\": {\n",
    "        \"subsubdir1\": {\n",
    "            \"file5.txt\": 250\n",
    "        },\n",
    "        \"file6.txt\": 150\n",
    "    }\n",
    "}\n",
    "\n",
    "total_size = calculate_directory_size(directory_structure)\n",
    "print(f\"Total size of the directory: {total_size} KB\")\n"
   ]
  },
  {
   "cell_type": "code",
   "execution_count": 4,
   "id": "d7baf91d-4a78-4b19-aae8-ca08bd5cbb0f",
   "metadata": {},
   "outputs": [
    {
     "name": "stdout",
     "output_type": "stream",
     "text": [
      "3\n",
      "-1\n"
     ]
    }
   ],
   "source": [
    "#dynamic programming\n",
    "#task1\n",
    "def min_coins(coins, amount):\n",
    "    \n",
    "    dp = [float('inf')] * (amount + 1)\n",
    "    dp[0] = 0  \n",
    "\n",
    "    for coin in coins:\n",
    "        for i in range(coin, amount + 1):\n",
    "            dp[i] = min(dp[i], dp[i - coin] + 1)\n",
    "    \n",
    "    return dp[amount] if dp[amount] != float('inf') else -1\n",
    "\n",
    "print(min_coins([1, 2, 5], 11))  \n",
    "print(min_coins([2], 3))         "
   ]
  },
  {
   "cell_type": "code",
   "execution_count": 5,
   "id": "55aca5a4-af58-4bf2-b2ff-c9ccdf38ac49",
   "metadata": {},
   "outputs": [
    {
     "name": "stdout",
     "output_type": "stream",
     "text": [
      "3\n"
     ]
    }
   ],
   "source": [
    "#task2\n",
    "def longest_common_subsequence(s1, s2):\n",
    "    len_s1, len_s2 = len(s1), len(s2)\n",
    "    \n",
    "    dp = [[0] * (len_s2 + 1) for _ in range(len_s1 + 1)]\n",
    "    \n",
    "    for i in range(1, len_s1 + 1):\n",
    "        for j in range(1, len_s2 + 1):\n",
    "            if s1[i - 1] == s2[j - 1]:\n",
    "                dp[i][j] = dp[i - 1][j - 1] + 1\n",
    "            else:\n",
    "                dp[i][j] = max(dp[i - 1][j], dp[i][j - 1])\n",
    "    \n",
    "    return dp[len_s1][len_s2]\n",
    "\n",
    "print(longest_common_subsequence(\"abcde\", \"ace\"))  \n"
   ]
  },
  {
   "cell_type": "code",
   "execution_count": 6,
   "id": "1b248e35-641e-46dc-815b-82e6cdfd3c06",
   "metadata": {},
   "outputs": [
    {
     "name": "stdout",
     "output_type": "stream",
     "text": [
      "9\n"
     ]
    }
   ],
   "source": [
    "#task3\n",
    "def knapsack(weights, values, capacity):\n",
    "    n = len(weights)\n",
    "    \n",
    "    dp = [[0] * (capacity + 1) for _ in range(n + 1)]\n",
    "    \n",
    "=    for i in range(1, n + 1):\n",
    "        for w in range(1, capacity + 1): \n",
    "            if weights[i - 1] <= w:\n",
    "                dp[i][w] = max(dp[i - 1][w], values[i - 1] + dp[i - 1][w - weights[i - 1]])\n",
    "            else:\n",
    "                dp[i][w] = dp[i - 1][w]\n",
    "    \n",
    "    return dp[n][capacity]\n",
    "\n",
    "weights = [1, 3, 4, 5]\n",
    "values = [1, 4, 5, 7]\n",
    "capacity = 7\n",
    "\n",
    "print(knapsack(weights, values, capacity))  \n"
   ]
  },
  {
   "cell_type": "code",
   "execution_count": null,
   "id": "6b54fe42-1967-48e3-a020-5796c8682c48",
   "metadata": {},
   "outputs": [],
   "source": []
  }
 ],
 "metadata": {
  "kernelspec": {
   "display_name": "Python 3 (ipykernel)",
   "language": "python",
   "name": "python3"
  },
  "language_info": {
   "codemirror_mode": {
    "name": "ipython",
    "version": 3
   },
   "file_extension": ".py",
   "mimetype": "text/x-python",
   "name": "python",
   "nbconvert_exporter": "python",
   "pygments_lexer": "ipython3",
   "version": "3.12.3"
  }
 },
 "nbformat": 4,
 "nbformat_minor": 5
}

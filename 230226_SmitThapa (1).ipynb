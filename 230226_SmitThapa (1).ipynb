{
  "nbformat": 4,
  "nbformat_minor": 0,
  "metadata": {
    "colab": {
      "provenance": []
    },
    "kernelspec": {
      "name": "python3",
      "display_name": "Python 3"
    },
    "language_info": {
      "name": "python"
    }
  },
  "cells": [
    {
      "cell_type": "code",
      "execution_count": 2,
      "metadata": {
        "colab": {
          "base_uri": "https://localhost:8080/"
        },
        "id": "s_YnBC5tTgKj",
        "outputId": "0a70e637-f883-4788-fad9-1d38c5386654"
      },
      "outputs": [
        {
          "output_type": "stream",
          "name": "stdout",
          "text": [
            "[[4.65626569e-310 0.00000000e+000]\n",
            " [0.00000000e+000 0.00000000e+000]]\n"
          ]
        }
      ],
      "source": [
        "# Smit Thapa\n",
        "# Problem1\n",
        "# Question1\n",
        "import numpy as np\n",
        "empty_array = np.empty((2,2))\n",
        "print(empty_array)"
      ]
    },
    {
      "cell_type": "code",
      "source": [
        "# Question2\n",
        "import numpy as np\n",
        "print(np.ones((4,2)))"
      ],
      "metadata": {
        "colab": {
          "base_uri": "https://localhost:8080/"
        },
        "id": "NyOa03LWUKlP",
        "outputId": "cd5f7025-58c3-40a7-8108-809f79dcb8e3"
      },
      "execution_count": 3,
      "outputs": [
        {
          "output_type": "stream",
          "name": "stdout",
          "text": [
            "[[1. 1.]\n",
            " [1. 1.]\n",
            " [1. 1.]\n",
            " [1. 1.]]\n"
          ]
        }
      ]
    },
    {
      "cell_type": "code",
      "source": [
        "# Question3\n",
        "import numpy as np\n",
        "new_array = np.full((2,2), 10, dtype=None)\n",
        "print(new_array)"
      ],
      "metadata": {
        "colab": {
          "base_uri": "https://localhost:8080/"
        },
        "id": "UHw345OyUVTD",
        "outputId": "e597ee7f-ae42-43c2-8953-0d8d4fa548a4"
      },
      "execution_count": 4,
      "outputs": [
        {
          "output_type": "stream",
          "name": "stdout",
          "text": [
            "[[10 10]\n",
            " [10 10]]\n"
          ]
        }
      ]
    },
    {
      "cell_type": "code",
      "source": [
        "# Question4\n",
        "import numpy as np\n",
        "given_array = np.ones((2,2))\n",
        "print(np.zeros_like(given_array))"
      ],
      "metadata": {
        "colab": {
          "base_uri": "https://localhost:8080/"
        },
        "id": "UpDU-qu4U944",
        "outputId": "78c98b56-47a3-4dc1-ef4a-38e17fa3e90f"
      },
      "execution_count": 5,
      "outputs": [
        {
          "output_type": "stream",
          "name": "stdout",
          "text": [
            "[[0. 0.]\n",
            " [0. 0.]]\n"
          ]
        }
      ]
    },
    {
      "cell_type": "code",
      "source": [
        "# Question5\n",
        "import numpy as np\n",
        "given_array = np.zeros((2,2))\n",
        "print(np.ones_like(given_array))"
      ],
      "metadata": {
        "colab": {
          "base_uri": "https://localhost:8080/"
        },
        "id": "mYdNkK7dVeGm",
        "outputId": "a9ebe5fc-d453-4167-9697-af2b5c8c41b5"
      },
      "execution_count": 6,
      "outputs": [
        {
          "output_type": "stream",
          "name": "stdout",
          "text": [
            "[[1. 1.]\n",
            " [1. 1.]]\n"
          ]
        }
      ]
    },
    {
      "cell_type": "code",
      "source": [
        "# Question6\n",
        "import numpy as np\n",
        "new_list = [1,2,3,4]\n",
        "print(np.array(new_list))"
      ],
      "metadata": {
        "colab": {
          "base_uri": "https://localhost:8080/"
        },
        "id": "9Jo9OV5KVo4z",
        "outputId": "57120cd7-e858-42e6-9cee-72e28fc1f0e7"
      },
      "execution_count": 7,
      "outputs": [
        {
          "output_type": "stream",
          "name": "stdout",
          "text": [
            "[1 2 3 4]\n"
          ]
        }
      ]
    },
    {
      "cell_type": "code",
      "source": [
        "# Problem2\n",
        "# Question1\n",
        "import numpy as np\n",
        "print(np.arange(10,50))"
      ],
      "metadata": {
        "colab": {
          "base_uri": "https://localhost:8080/"
        },
        "id": "KrJz5vf6V0f7",
        "outputId": "3e7d78da-7cfb-44fc-85d5-d7e01c001fdc"
      },
      "execution_count": 8,
      "outputs": [
        {
          "output_type": "stream",
          "name": "stdout",
          "text": [
            "[10 11 12 13 14 15 16 17 18 19 20 21 22 23 24 25 26 27 28 29 30 31 32 33\n",
            " 34 35 36 37 38 39 40 41 42 43 44 45 46 47 48 49]\n"
          ]
        }
      ]
    },
    {
      "cell_type": "code",
      "source": [
        "# Question2\n",
        "import numpy as np\n",
        "print(np.arange(9).reshape(3,3))"
      ],
      "metadata": {
        "colab": {
          "base_uri": "https://localhost:8080/"
        },
        "id": "e710M_30WFMS",
        "outputId": "8bcc8616-bdc9-429e-b0bf-dcfa0d802add"
      },
      "execution_count": 9,
      "outputs": [
        {
          "output_type": "stream",
          "name": "stdout",
          "text": [
            "[[0 1 2]\n",
            " [3 4 5]\n",
            " [6 7 8]]\n"
          ]
        }
      ]
    },
    {
      "cell_type": "code",
      "source": [
        "# Question3\n",
        "import numpy as np\n",
        "print(np.eye(3))"
      ],
      "metadata": {
        "colab": {
          "base_uri": "https://localhost:8080/"
        },
        "id": "72uQnr8gYI7l",
        "outputId": "742cbd1e-d92e-4181-d60c-0d3da5564602"
      },
      "execution_count": 10,
      "outputs": [
        {
          "output_type": "stream",
          "name": "stdout",
          "text": [
            "[[1. 0. 0.]\n",
            " [0. 1. 0.]\n",
            " [0. 0. 1.]]\n"
          ]
        }
      ]
    },
    {
      "cell_type": "code",
      "source": [
        "# Question4\n",
        "import numpy as np\n",
        "array = np.random.random(30)\n",
        "print(array)\n",
        "print(array.mean())"
      ],
      "metadata": {
        "colab": {
          "base_uri": "https://localhost:8080/"
        },
        "id": "7ZXuGTsBYWr3",
        "outputId": "4c4edf52-ace6-4cca-9d35-b5e1a6dcd8fd"
      },
      "execution_count": 11,
      "outputs": [
        {
          "output_type": "stream",
          "name": "stdout",
          "text": [
            "[0.01336823 0.68584177 0.09178136 0.1471676  0.03006552 0.71152891\n",
            " 0.45843019 0.81048042 0.71940001 0.68705851 0.36663727 0.64805516\n",
            " 0.64187917 0.25710111 0.83299106 0.05687544 0.69513929 0.11603065\n",
            " 0.53439151 0.44401584 0.81011832 0.12221366 0.30329059 0.10494507\n",
            " 0.40603523 0.04283907 0.60270814 0.54101937 0.61669805 0.87431454]\n",
            "0.4457473691691699\n"
          ]
        }
      ]
    },
    {
      "cell_type": "code",
      "source": [
        "# Question5\n",
        "import numpy as np\n",
        "array = np.random.random((10,10))\n",
        "print(np.max(array))\n",
        "print(np.min(array))"
      ],
      "metadata": {
        "colab": {
          "base_uri": "https://localhost:8080/"
        },
        "id": "YwtrjvgeYtqC",
        "outputId": "c8a60ff3-4d58-40f5-de0d-8bfe31ac96ac"
      },
      "execution_count": 12,
      "outputs": [
        {
          "output_type": "stream",
          "name": "stdout",
          "text": [
            "0.9897365519740088\n",
            "0.02248770291460056\n"
          ]
        }
      ]
    },
    {
      "cell_type": "code",
      "source": [
        "# Question6\n",
        "import numpy as np\n",
        "array = np.zeros(10)\n",
        "array[4] = 1\n",
        "print(array)"
      ],
      "metadata": {
        "colab": {
          "base_uri": "https://localhost:8080/"
        },
        "id": "OfyY5cRAZQvZ",
        "outputId": "9fa6a82f-b678-4b96-fc02-01b4a53b92b8"
      },
      "execution_count": 13,
      "outputs": [
        {
          "output_type": "stream",
          "name": "stdout",
          "text": [
            "[0. 0. 0. 0. 1. 0. 0. 0. 0. 0.]\n"
          ]
        }
      ]
    },
    {
      "cell_type": "code",
      "source": [
        "# Question7\n",
        "import numpy as np\n",
        "array = np.array([1,2,0,0,4,0])\n",
        "print(np.flip(array))"
      ],
      "metadata": {
        "colab": {
          "base_uri": "https://localhost:8080/"
        },
        "id": "rKn4dOytZ8pX",
        "outputId": "9a83eb9d-77c8-48f3-a4df-c4cc89e5af5e"
      },
      "execution_count": 14,
      "outputs": [
        {
          "output_type": "stream",
          "name": "stdout",
          "text": [
            "[0 4 0 0 2 1]\n"
          ]
        }
      ]
    },
    {
      "cell_type": "code",
      "source": [
        "# Question8\n",
        "import numpy as np\n",
        "array = np.ones((5,5))\n",
        "array[1:-1, 1:-1] = 0\n",
        "print(array)"
      ],
      "metadata": {
        "colab": {
          "base_uri": "https://localhost:8080/"
        },
        "id": "sw4NWcyiaMU7",
        "outputId": "5748ced5-ea95-416c-8b9a-4284ed2accc8"
      },
      "execution_count": 15,
      "outputs": [
        {
          "output_type": "stream",
          "name": "stdout",
          "text": [
            "[[1. 1. 1. 1. 1.]\n",
            " [1. 0. 0. 0. 1.]\n",
            " [1. 0. 0. 0. 1.]\n",
            " [1. 0. 0. 0. 1.]\n",
            " [1. 1. 1. 1. 1.]]\n"
          ]
        }
      ]
    },
    {
      "cell_type": "code",
      "source": [
        "# Question9\n",
        "import numpy as np\n",
        "array = np.full((8,8), 0)\n",
        "array[1::2, ::2] = 1\n",
        "array[::2, 1::2] = 1\n",
        "print(array)"
      ],
      "metadata": {
        "colab": {
          "base_uri": "https://localhost:8080/"
        },
        "id": "nTQc8qrjbwYf",
        "outputId": "9c0c9d21-189b-410b-9a6b-8dee13c94385"
      },
      "execution_count": 16,
      "outputs": [
        {
          "output_type": "stream",
          "name": "stdout",
          "text": [
            "[[0 1 0 1 0 1 0 1]\n",
            " [1 0 1 0 1 0 1 0]\n",
            " [0 1 0 1 0 1 0 1]\n",
            " [1 0 1 0 1 0 1 0]\n",
            " [0 1 0 1 0 1 0 1]\n",
            " [1 0 1 0 1 0 1 0]\n",
            " [0 1 0 1 0 1 0 1]\n",
            " [1 0 1 0 1 0 1 0]]\n"
          ]
        }
      ]
    },
    {
      "cell_type": "code",
      "source": [
        "# Problem 3\n",
        "# Question1\n",
        "import numpy as np\n",
        "x = np.array([[1,2],[3,5]])\n",
        "y = np.array([[5,6],[7,8]])\n",
        "v = np.array([9,10])\n",
        "w = np.array([11,12])\n",
        "print(x + y)\n",
        "print(v + w)"
      ],
      "metadata": {
        "colab": {
          "base_uri": "https://localhost:8080/"
        },
        "id": "dFU2-va89wLS",
        "outputId": "33b39f64-10be-4efd-9465-62c2956cb804"
      },
      "execution_count": 17,
      "outputs": [
        {
          "output_type": "stream",
          "name": "stdout",
          "text": [
            "[[ 6  8]\n",
            " [10 13]]\n",
            "[20 22]\n"
          ]
        }
      ]
    },
    {
      "cell_type": "code",
      "source": [
        "# Question2\n",
        "import numpy as np\n",
        "x = np.array([[1,2],[3,5]])\n",
        "y = np.array([[5,6],[7,8]])\n",
        "v = np.array([9,10])\n",
        "w = np.array([11,12])\n",
        "print(x - y)\n",
        "print(v - w)"
      ],
      "metadata": {
        "colab": {
          "base_uri": "https://localhost:8080/"
        },
        "id": "5FyexfKZ-Y5s",
        "outputId": "7fc0fb01-68de-4fc9-e73c-ebdce5c0f305"
      },
      "execution_count": 18,
      "outputs": [
        {
          "output_type": "stream",
          "name": "stdout",
          "text": [
            "[[-4 -4]\n",
            " [-4 -3]]\n",
            "[-2 -2]\n"
          ]
        }
      ]
    },
    {
      "cell_type": "code",
      "source": [
        "# Question3\n",
        "import numpy as np\n",
        "x = np.array([[1,2],[3,5]])\n",
        "y = np.array([[5,6],[7,8]])\n",
        "v = np.array([9,10])\n",
        "w = np.array([11,12])\n",
        "print(x * 2)\n",
        "print(y * 2)\n",
        "print(v * 2)\n",
        "print(w * 2)"
      ],
      "metadata": {
        "colab": {
          "base_uri": "https://localhost:8080/"
        },
        "id": "O-PS7n9b-feU",
        "outputId": "1bcfa21b-a21a-4a0e-b291-59714def95db"
      },
      "execution_count": 19,
      "outputs": [
        {
          "output_type": "stream",
          "name": "stdout",
          "text": [
            "[[ 2  4]\n",
            " [ 6 10]]\n",
            "[[10 12]\n",
            " [14 16]]\n",
            "[18 20]\n",
            "[22 24]\n"
          ]
        }
      ]
    },
    {
      "cell_type": "code",
      "source": [
        "# Question4\n",
        "import numpy as np\n",
        "x = np.array([[1,2],[3,5]])\n",
        "y = np.array([[5,6],[7,8]])\n",
        "v = np.array([9,10])\n",
        "w = np.array([11,12])\n",
        "print(np.square(x))\n",
        "print(np.square(y))\n",
        "print(np.square(v))\n",
        "print(np.square(w))"
      ],
      "metadata": {
        "colab": {
          "base_uri": "https://localhost:8080/"
        },
        "id": "v5nLenhz-tZU",
        "outputId": "6cf13353-38c3-4e4d-ac75-2fc3e1e9523c"
      },
      "execution_count": 20,
      "outputs": [
        {
          "output_type": "stream",
          "name": "stdout",
          "text": [
            "[[ 1  4]\n",
            " [ 9 25]]\n",
            "[[25 36]\n",
            " [49 64]]\n",
            "[ 81 100]\n",
            "[121 144]\n"
          ]
        }
      ]
    },
    {
      "cell_type": "code",
      "source": [
        "# Question5\n",
        "import numpy as np\n",
        "x = np.array([[1,2],[3,5]])\n",
        "y = np.array([[5,6],[7,8]])\n",
        "v = np.array([9,10])\n",
        "w = np.array([11,12])\n",
        "print(np.dot(x,y))\n",
        "print(np.dot(v,w))\n"
      ],
      "metadata": {
        "colab": {
          "base_uri": "https://localhost:8080/"
        },
        "id": "3T_Sdq-D_Imf",
        "outputId": "04e57205-9c10-4d2d-a3ed-5b16bde2c351"
      },
      "execution_count": 21,
      "outputs": [
        {
          "output_type": "stream",
          "name": "stdout",
          "text": [
            "[[19 22]\n",
            " [50 58]]\n",
            "219\n"
          ]
        }
      ]
    },
    {
      "cell_type": "code",
      "source": [
        "# Question6\n",
        "import numpy as np\n",
        "x = np.array([[1,2],[3,5]])\n",
        "y = np.array([[5,6],[7,8]])\n",
        "v = np.array([9,10])\n",
        "w = np.array([11,12])\n",
        "print(np.concatenate((x,y), axis=0))\n",
        "print(np.concatenate((v.reshape(-1,1),w.reshape(-1,1)), axis=1))"
      ],
      "metadata": {
        "colab": {
          "base_uri": "https://localhost:8080/"
        },
        "id": "tjLtifhM_gxL",
        "outputId": "e24d67c3-189a-4260-f2e6-c994e815ebb3"
      },
      "execution_count": 22,
      "outputs": [
        {
          "output_type": "stream",
          "name": "stdout",
          "text": [
            "[[1 2]\n",
            " [3 5]\n",
            " [5 6]\n",
            " [7 8]]\n",
            "[[ 9 11]\n",
            " [10 12]]\n"
          ]
        }
      ]
    },
    {
      "cell_type": "code",
      "source": [
        "# Question7\n",
        "import numpy as np\n",
        "x = np.array([[1,2],[3,5]])\n",
        "v = np.array([9,10])\n",
        "error_concat = np.concatenate((x, v))\n",
        "# we get an error because inorder to concatenate along the rows,\n",
        "# the number of cloumn must match across the arrays.\n"
      ],
      "metadata": {
        "colab": {
          "base_uri": "https://localhost:8080/",
          "height": 228
        },
        "id": "myzPBkqLCLs8",
        "outputId": "8ed4b52e-3266-40b3-b910-7b9bd2d078b6"
      },
      "execution_count": 29,
      "outputs": [
        {
          "output_type": "error",
          "ename": "ValueError",
          "evalue": "all the input arrays must have same number of dimensions, but the array at index 0 has 2 dimension(s) and the array at index 1 has 1 dimension(s)",
          "traceback": [
            "\u001b[0;31m---------------------------------------------------------------------------\u001b[0m",
            "\u001b[0;31mValueError\u001b[0m                                Traceback (most recent call last)",
            "\u001b[0;32m<ipython-input-29-02decc945675>\u001b[0m in \u001b[0;36m<cell line: 5>\u001b[0;34m()\u001b[0m\n\u001b[1;32m      3\u001b[0m \u001b[0mx\u001b[0m \u001b[0;34m=\u001b[0m \u001b[0mnp\u001b[0m\u001b[0;34m.\u001b[0m\u001b[0marray\u001b[0m\u001b[0;34m(\u001b[0m\u001b[0;34m[\u001b[0m\u001b[0;34m[\u001b[0m\u001b[0;36m1\u001b[0m\u001b[0;34m,\u001b[0m\u001b[0;36m2\u001b[0m\u001b[0;34m]\u001b[0m\u001b[0;34m,\u001b[0m\u001b[0;34m[\u001b[0m\u001b[0;36m3\u001b[0m\u001b[0;34m,\u001b[0m\u001b[0;36m5\u001b[0m\u001b[0;34m]\u001b[0m\u001b[0;34m]\u001b[0m\u001b[0;34m)\u001b[0m\u001b[0;34m\u001b[0m\u001b[0;34m\u001b[0m\u001b[0m\n\u001b[1;32m      4\u001b[0m \u001b[0mv\u001b[0m \u001b[0;34m=\u001b[0m \u001b[0mnp\u001b[0m\u001b[0;34m.\u001b[0m\u001b[0marray\u001b[0m\u001b[0;34m(\u001b[0m\u001b[0;34m[\u001b[0m\u001b[0;36m9\u001b[0m\u001b[0;34m,\u001b[0m\u001b[0;36m10\u001b[0m\u001b[0;34m]\u001b[0m\u001b[0;34m)\u001b[0m\u001b[0;34m\u001b[0m\u001b[0;34m\u001b[0m\u001b[0m\n\u001b[0;32m----> 5\u001b[0;31m \u001b[0merror_concat\u001b[0m \u001b[0;34m=\u001b[0m \u001b[0mnp\u001b[0m\u001b[0;34m.\u001b[0m\u001b[0mconcatenate\u001b[0m\u001b[0;34m(\u001b[0m\u001b[0;34m(\u001b[0m\u001b[0mx\u001b[0m\u001b[0;34m,\u001b[0m \u001b[0mv\u001b[0m\u001b[0;34m)\u001b[0m\u001b[0;34m)\u001b[0m\u001b[0;34m\u001b[0m\u001b[0;34m\u001b[0m\u001b[0m\n\u001b[0m\u001b[1;32m      6\u001b[0m \u001b[0;31m# we get an error because inorder to concatenate along the rows,\u001b[0m\u001b[0;34m\u001b[0m\u001b[0;34m\u001b[0m\u001b[0m\n\u001b[1;32m      7\u001b[0m \u001b[0;31m# the number of cloumn must match across the arrays.\u001b[0m\u001b[0;34m\u001b[0m\u001b[0;34m\u001b[0m\u001b[0m\n",
            "\u001b[0;31mValueError\u001b[0m: all the input arrays must have same number of dimensions, but the array at index 0 has 2 dimension(s) and the array at index 1 has 1 dimension(s)"
          ]
        }
      ]
    },
    {
      "cell_type": "code",
      "source": [
        "# Problem4\n",
        "# Question1\n",
        "import numpy as np\n",
        "A = np.array([[3,4],[7,8]])\n",
        "B = np.array([[5,3],[2,1]])\n",
        "A_inv = np.linalg.inv(A)\n",
        "result = np.dot(A, A_inv)\n",
        "print(np.round(result, decimals=10))\n",
        "\n",
        "AB = np.dot(A,B)\n",
        "print(AB)\n",
        "BA = np.dot(B,A)\n",
        "print(BA)\n",
        "\n",
        "ABT = np.transpose(AB)\n",
        "print(ABT)\n",
        "AT = np.transpose(A)\n",
        "BT = np.transpose(B)\n",
        "BTAT = np.dot(BT, AT)\n",
        "print(BTAT)"
      ],
      "metadata": {
        "colab": {
          "base_uri": "https://localhost:8080/"
        },
        "id": "HNSyStElDwEZ",
        "outputId": "a5475e04-9fd7-4766-e51a-bbefbc1c8016"
      },
      "execution_count": 23,
      "outputs": [
        {
          "output_type": "stream",
          "name": "stdout",
          "text": [
            "[[1. 0.]\n",
            " [0. 1.]]\n",
            "[[23 13]\n",
            " [51 29]]\n",
            "[[36 44]\n",
            " [13 16]]\n",
            "[[23 51]\n",
            " [13 29]]\n",
            "[[23 51]\n",
            " [13 29]]\n"
          ]
        }
      ]
    },
    {
      "cell_type": "code",
      "source": [
        "# Question2\n",
        "import numpy as np\n",
        "A = np.array([[2, -3, 1],\n",
        "              [1, -1, 2],\n",
        "              [3, 1, -1]])\n",
        "B = np.array([-1, -3, 9])\n"
      ],
      "metadata": {
        "id": "7aK5aVB3GZoC"
      },
      "execution_count": 24,
      "outputs": []
    },
    {
      "cell_type": "code",
      "source": [
        "# Question3\n",
        "import numpy as np\n",
        "A = np.array([[2, -3, 1],\n",
        "              [1, -1, 2],\n",
        "              [3, 1, -1]])\n",
        "B = np.array([-1, -3, 9])\n",
        "\n",
        "A_inv = np.linalg.inv(A)\n",
        "result = np.dot(A_inv, B)\n",
        "print(result)\n",
        "# The numpy.linalg module in Numpy provides a powerful suite of linear algebra\n",
        "# functions that make it easier to perform operations commonly used in 4\n",
        "# mathematics,and Machine Learning."
      ],
      "metadata": {
        "colab": {
          "base_uri": "https://localhost:8080/"
        },
        "id": "OzoZ-3WjGxTw",
        "outputId": "5a1eae78-5605-44f6-c603-4d521109d7fc"
      },
      "execution_count": 25,
      "outputs": [
        {
          "output_type": "stream",
          "name": "stdout",
          "text": [
            "[ 2.  1. -2.]\n"
          ]
        }
      ]
    }
  ]
}